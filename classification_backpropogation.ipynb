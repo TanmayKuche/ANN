{
  "nbformat": 4,
  "nbformat_minor": 0,
  "metadata": {
    "colab": {
      "provenance": []
    },
    "kernelspec": {
      "name": "python3",
      "display_name": "Python 3"
    },
    "language_info": {
      "name": "python"
    }
  },
  "cells": [
    {
      "cell_type": "code",
      "execution_count": null,
      "metadata": {
        "id": "bkPHPTYdzVvW"
      },
      "outputs": [],
      "source": [
        "import numpy as np\n",
        "import pandas as pd"
      ]
    },
    {
      "cell_type": "code",
      "source": [
        "df = pd.DataFrame([[8,8,1],[7,9,1],[6,10,0],[5,5,0]], columns=['cgpa', 'profile_score', 'placed'])"
      ],
      "metadata": {
        "id": "Jrf8sfe5COql"
      },
      "execution_count": null,
      "outputs": []
    },
    {
      "cell_type": "code",
      "source": [
        "def initialize_parameters(layer_dims):\n",
        "\n",
        "  np.random.seed(3)\n",
        "  parameters = {}\n",
        "  L = len(layer_dims)\n",
        "\n",
        "  for l in range(1, L):\n",
        "\n",
        "    parameters['W' + str(l)] = np.ones((layer_dims[l-1], layer_dims[l]))*0.1\n",
        "    parameters['b' + str(l)] = np.zeros((layer_dims[l], 1))\n",
        "\n",
        "\n",
        "  return parameters"
      ],
      "metadata": {
        "id": "liAoJYFTCSb6"
      },
      "execution_count": null,
      "outputs": []
    },
    {
      "cell_type": "code",
      "source": [
        "def sigmoid(Z):\n",
        "\n",
        "  A = 1/(1+np.exp(-Z))\n",
        "\n",
        "  return A"
      ],
      "metadata": {
        "id": "CiyuodvzCTAY"
      },
      "execution_count": null,
      "outputs": []
    },
    {
      "cell_type": "code",
      "source": [
        "def linear_forward(A_prev, W, b):\n",
        "\n",
        "  Z = np.dot(W.T, A_prev) + b\n",
        "\n",
        "  A = sigmoid(Z)\n",
        "\n",
        "  return A"
      ],
      "metadata": {
        "id": "IezFoiQGCXGQ"
      },
      "execution_count": null,
      "outputs": []
    },
    {
      "cell_type": "code",
      "source": [
        "# L-layer feed forward\n",
        "\n",
        "def L_layer_forward(X, parameters):\n",
        "\n",
        "  A = X\n",
        "  L = len(parameters) // 2                  # number of layers in the neural network\n",
        "\n",
        "  for l in range(1, L+1):\n",
        "    A_prev = A\n",
        "    Wl = parameters['W' + str(l)]\n",
        "    bl = parameters['b' + str(l)]\n",
        "\n",
        "    A = linear_forward(A_prev, Wl, bl)\n",
        "\n",
        "  return A,A_prev\n"
      ],
      "metadata": {
        "id": "3jXElWxKCYr1"
      },
      "execution_count": null,
      "outputs": []
    },
    {
      "cell_type": "code",
      "source": [
        "def update_parameters(parameters,y,y_hat,A1,X):\n",
        "  parameters['W2'][0][0] = parameters['W2'][0][0] + (0.0001 * (y - y_hat)*A1[0][0])\n",
        "  parameters['W2'][1][0] = parameters['W2'][1][0] + (0.0001 * (y - y_hat)*A1[1][0])\n",
        "  parameters['b2'][0][0] = parameters['W2'][1][0] + (0.0001 * (y - y_hat))\n",
        "\n",
        "  parameters['W1'][0][0] = parameters['W1'][0][0] + (0.0001 * (y - y_hat)*parameters['W2'][0][0]*A1[0][0]*(1-A1[0][0])*X[0][0])\n",
        "  parameters['W1'][0][1] = parameters['W1'][0][1] + (0.0001 * (y - y_hat)*parameters['W2'][0][0]*A1[0][0]*(1-A1[0][0])*X[1][0])\n",
        "  parameters['b1'][0][0] = parameters['b1'][0][0] + (0.0001 * (y - y_hat)*parameters['W2'][0][0]*A1[0][0]*(1-A1[0][0]))\n",
        "\n",
        "  parameters['W1'][1][0] = parameters['W1'][1][0] + (0.0001 * (y - y_hat)*parameters['W2'][1][0]*A1[1][0]*(1-A1[1][0])*X[0][0])\n",
        "  parameters['W1'][1][1] = parameters['W1'][1][1] + (0.0001 * (y - y_hat)*parameters['W2'][1][0]*A1[1][0]*(1-A1[1][0])*X[1][0])\n",
        "  parameters['b1'][1][0] = parameters['b1'][1][0] + (0.0001 * (y - y_hat)*parameters['W2'][1][0]*A1[1][0]*(1-A1[1][0]))"
      ],
      "metadata": {
        "id": "ksEGsA56CaRm"
      },
      "execution_count": null,
      "outputs": []
    },
    {
      "cell_type": "code",
      "source": [
        "X = df[['cgpa', 'profile_score']].values[0].reshape(2,1)\n",
        "y = df[['placed']].values[0][0]\n",
        "\n",
        "\n",
        "parameters = initialize_parameters([2,2,1])\n",
        "\n",
        "y_hat,A1 = L_layer_forward(X,parameters)\n",
        "y_hat = y_hat[0][0]\n",
        "\n",
        "update_parameters(parameters,y,y_hat,A1,X)\n",
        "\n",
        "print('Loss for this student - ',-y*np.log(y_hat) - (1-y)*np.log(1-y_hat))\n",
        "\n",
        "parameters"
      ],
      "metadata": {
        "colab": {
          "base_uri": "https://localhost:8080/"
        },
        "id": "Yced0xDvCipS",
        "outputId": "d32b4255-d436-45a2-9082-fcae90681370"
      },
      "execution_count": null,
      "outputs": [
        {
          "output_type": "stream",
          "name": "stdout",
          "text": [
            "Loss for this student -  0.613402628898913\n"
          ]
        },
        {
          "output_type": "execute_result",
          "data": {
            "text/plain": [
              "{'W1': array([[0.10000513, 0.10000513],\n",
              "        [0.10000513, 0.10000513]]),\n",
              " 'b1': array([[6.41054186e-07],\n",
              "        [6.41054186e-07]]),\n",
              " 'W2': array([[0.10003815],\n",
              "        [0.10003815]]),\n",
              " 'b2': array([[0.100084]])}"
            ]
          },
          "metadata": {},
          "execution_count": 8
        }
      ]
    },
    {
      "cell_type": "code",
      "source": [
        "parameters = initialize_parameters([2,2,1])\n",
        "epochs = 50\n",
        "\n",
        "for i in range(epochs):\n",
        "\n",
        "  Loss = []\n",
        "\n",
        "  for j in range(df.shape[0]):\n",
        "\n",
        "    X = df[['cgpa', 'profile_score']].values[j].reshape(2,1) # Shape(no of features, no. of training example)\n",
        "    y = df[['placed']].values[j][0]\n",
        "\n",
        "\n",
        "    y_hat,A1 = L_layer_forward(X,parameters)\n",
        "    y_hat = y_hat[0][0]\n",
        "\n",
        "    update_parameters(parameters,y,y_hat,A1,X)\n",
        "\n",
        "    Loss.append(-y*np.log(y_hat) - (1-y)*np.log(1-y_hat))\n",
        "\n",
        "  print('Epoch - ',i+1,'Loss - ',np.array(Loss).mean())\n",
        "\n",
        "parameters"
      ],
      "metadata": {
        "colab": {
          "base_uri": "https://localhost:8080/"
        },
        "id": "wOxIzrxQCm3W",
        "outputId": "96f3dd4d-5016-4542-ddb3-9a4c70de8eda"
      },
      "execution_count": null,
      "outputs": [
        {
          "output_type": "stream",
          "name": "stdout",
          "text": [
            "Epoch -  1 Loss -  0.7103199085929446\n",
            "Epoch -  2 Loss -  0.6991702892802629\n",
            "Epoch -  3 Loss -  0.6991679314811485\n",
            "Epoch -  4 Loss -  0.6991655746710999\n",
            "Epoch -  5 Loss -  0.6991632188496667\n",
            "Epoch -  6 Loss -  0.699160864016399\n",
            "Epoch -  7 Loss -  0.6991585101708473\n",
            "Epoch -  8 Loss -  0.6991561573125619\n",
            "Epoch -  9 Loss -  0.6991538054410936\n",
            "Epoch -  10 Loss -  0.6991514545559935\n",
            "Epoch -  11 Loss -  0.6991491046568126\n",
            "Epoch -  12 Loss -  0.6991467557431024\n",
            "Epoch -  13 Loss -  0.6991444078144144\n",
            "Epoch -  14 Loss -  0.6991420608703007\n",
            "Epoch -  15 Loss -  0.6991397149103132\n",
            "Epoch -  16 Loss -  0.6991373699340042\n",
            "Epoch -  17 Loss -  0.6991350259409265\n",
            "Epoch -  18 Loss -  0.6991326829306324\n",
            "Epoch -  19 Loss -  0.6991303409026751\n",
            "Epoch -  20 Loss -  0.699127999856608\n",
            "Epoch -  21 Loss -  0.6991256597919842\n",
            "Epoch -  22 Loss -  0.6991233207083575\n",
            "Epoch -  23 Loss -  0.6991209826052818\n",
            "Epoch -  24 Loss -  0.699118645482311\n",
            "Epoch -  25 Loss -  0.6991163093389996\n",
            "Epoch -  26 Loss -  0.699113974174902\n",
            "Epoch -  27 Loss -  0.6991116399895729\n",
            "Epoch -  28 Loss -  0.6991093067825676\n",
            "Epoch -  29 Loss -  0.699106974553441\n",
            "Epoch -  30 Loss -  0.6991046433017485\n",
            "Epoch -  31 Loss -  0.6991023130270458\n",
            "Epoch -  32 Loss -  0.699099983728889\n",
            "Epoch -  33 Loss -  0.6990976554068338\n",
            "Epoch -  34 Loss -  0.6990953280604367\n",
            "Epoch -  35 Loss -  0.6990930016892543\n",
            "Epoch -  36 Loss -  0.6990906762928432\n",
            "Epoch -  37 Loss -  0.6990883518707602\n",
            "Epoch -  38 Loss -  0.6990860284225631\n",
            "Epoch -  39 Loss -  0.6990837059478086\n",
            "Epoch -  40 Loss -  0.6990813844460546\n",
            "Epoch -  41 Loss -  0.699079063916859\n",
            "Epoch -  42 Loss -  0.6990767443597797\n",
            "Epoch -  43 Loss -  0.6990744257743753\n",
            "Epoch -  44 Loss -  0.699072108160204\n",
            "Epoch -  45 Loss -  0.6990697915168249\n",
            "Epoch -  46 Loss -  0.6990674758437966\n",
            "Epoch -  47 Loss -  0.6990651611406782\n",
            "Epoch -  48 Loss -  0.6990628474070294\n",
            "Epoch -  49 Loss -  0.6990605346424095\n",
            "Epoch -  50 Loss -  0.6990582228463785\n"
          ]
        },
        {
          "output_type": "execute_result",
          "data": {
            "text/plain": [
              "{'W1': array([[0.09994267, 0.09984548],\n",
              "        [0.09994272, 0.09984548]]),\n",
              " 'b1': array([[-3.38405750e-05],\n",
              "        [-3.38419977e-05]]),\n",
              " 'W2': array([[0.09920806],\n",
              "        [0.09920816]]),\n",
              " 'b2': array([[0.09915209]])}"
            ]
          },
          "metadata": {},
          "execution_count": 9
        }
      ]
    },
    {
      "cell_type": "code",
      "source": [],
      "metadata": {
        "id": "OE8YR3_gCw_F"
      },
      "execution_count": null,
      "outputs": []
    }
  ]
}